{
 "cells": [
  {
   "cell_type": "markdown",
   "metadata": {
    "deletable": false,
    "nbgrader": {
     "checksum": "f96bfa5961fdba3f0deef448d4f0e8b3",
     "grade": false,
     "grade_id": "header",
     "locked": true,
     "solution": false
    }
   },
   "source": [
    "# Week 4 Problem 3\n",
    "\n",
    "If you are not using the `Assignments` tab on the course JupyterHub server to read this notebook, read [Activating the assignments tab](https://github.com/UI-DataScience/info490-fa16/blob/master/Week2/assignments/README.md).\n",
    "\n",
    "A few things you should keep in mind when working on assignments:\n",
    "\n",
    "1. Make sure you fill in any place that says `YOUR CODE HERE`. Do **not** write your answer in anywhere else other than where it says `YOUR CODE HERE`. Anything you write anywhere else will be removed or overwritten by the autograder.\n",
    "\n",
    "2. Before you submit your assignment, make sure everything runs as expected. Go to menubar, select _Kernel_, and restart the kernel and run all cells (_Restart & Run all_).\n",
    "\n",
    "3. Do not change the title (i.e. file name) of this notebook.\n",
    "\n",
    "4. Make sure that you save your work (in the menubar, select _File_ → _Save and CheckPoint_)\n",
    "\n",
    "5. You are allowed to submit an assignment multiple times, but only the most recent submission will be graded."
   ]
  },
  {
   "cell_type": "code",
   "execution_count": null,
   "metadata": {
    "collapsed": true,
    "deletable": false,
    "nbgrader": {
     "checksum": "f41f3e133f7eab1a6b85fed8da9860bf",
     "grade": false,
     "grade_id": "import_nose",
     "locked": true,
     "solution": false
    }
   },
   "outputs": [],
   "source": [
    "from nose.tools import assert_equal"
   ]
  },
  {
   "cell_type": "markdown",
   "metadata": {
    "deletable": false,
    "nbgrader": {
     "checksum": "2246d105d0dcb4f3f8db650b411d6240",
     "grade": false,
     "grade_id": "p1_title",
     "locked": true,
     "solution": false
    }
   },
   "source": [
    "## Summary\n",
    "\n",
    "This problem helps you get familiar with Python dictionaries. It is useful to refer to the dictionary functions mentioned in the [pydatastructures2.ipynb](https://github.com/UI-DataScience/info490-fa16/blob/master/Week4/notebooks/pydatastructures2.ipynb) notebook. In addition to the ones mentioned in our course notebook, you may find more built-in dictionary functions in [this document](https://docs.python.org/2/library/stdtypes.html#mapping-types-dict) that may be helpful for this assignment.\n",
    "\n",
    "## 1. Function: dict_from_lists()\n",
    "\n",
    "In the following code cell, construct a function named `dict_from_lists()` that takes two lists as input arguments. The function returns a dictionary with the first input list as its keys and the second as its values. You can assume that the two lists have equal lengths, and that the n-th element in the first list and the n-th element in the second list are one key-value pair."
   ]
  },
  {
   "cell_type": "code",
   "execution_count": null,
   "metadata": {
    "collapsed": true,
    "deletable": false,
    "nbgrader": {
     "checksum": "b2d07d1941d90b2a96d2f37a62ebc414",
     "grade": false,
     "grade_id": "f1_ans",
     "locked": false,
     "solution": true
    }
   },
   "outputs": [],
   "source": [
    "def dict_from_lists(keys, values):\n",
    "    '''\n",
    "    Constructs a dictionary using the first input list as keys and second as values.\n",
    "    \n",
    "    Parameters\n",
    "    __________\n",
    "    keys: A list.\n",
    "    values: A list.\n",
    "    \n",
    "    Returns\n",
    "    _______\n",
    "    output: A dictionary.\n",
    "    '''\n",
    "    # YOUR CODE HERE"
   ]
  },
  {
   "cell_type": "code",
   "execution_count": null,
   "metadata": {
    "collapsed": true,
    "deletable": false,
    "nbgrader": {
     "checksum": "113520942ab4a6f5eb6bb8ef4df063ee",
     "grade": true,
     "grade_id": "f1_test",
     "locked": true,
     "points": 5,
     "solution": false
    }
   },
   "outputs": [],
   "source": [
    "assert_equal(type(dict_from_lists([], [])), dict)\n",
    "assert_equal(dict_from_lists([], []), {})\n",
    "assert_equal(dict_from_lists([1, 2], ['1', '2']), {1: '1', 2: '2'})\n",
    "assert_equal(dict_from_lists(tuple('MaRiO'), list(range(5))), \n",
    "             {'M': 0, 'a': 1, 'R': 2, 'i': 3, 'O': 4})\n",
    "assert_equal(dict_from_lists([\"info\", \"490\", \"fa16\"], [4.0, 9.0, 0.0]), \n",
    "             {\"info\": 4.0, \"490\": 9.0, \"fa16\": 0.0})"
   ]
  },
  {
   "cell_type": "markdown",
   "metadata": {
    "deletable": false,
    "nbgrader": {
     "checksum": "0e57ca98f2ecea5be5d8adf8cf6e9798",
     "grade": false,
     "grade_id": "f2_title",
     "locked": true,
     "solution": false
    }
   },
   "source": [
    "## 2. Function: add_one()\n",
    "\n",
    "In the following code cell, construct a function named `add_one()` that takes two dictionaries as input arguments, and adds the key-value pairs from the second dictionary to the first one. For example, suppose `a = {1: 2}` and `b = {3: 4}`, then `add_one(a, b)` returns `{1: 2, 3: 4}`. This function returns the updated first input dictionary as the output. \n",
    "\n",
    "Since Python dictionaries do not accept repeated key values, if a key in the second dictionary already exists in the first dictionary, your `add_one()` function should replace the corresponding value in the first dictionary with the value in the second dictionary. For example, suppose `a = {1: 2}` and `b = {1: 3}`, then `add_one(a, b)` returns `{1: 3}`. *Hint*: You do not need to write extra codes for duplicate keys. Python handles those automatically."
   ]
  },
  {
   "cell_type": "code",
   "execution_count": null,
   "metadata": {
    "collapsed": true,
    "deletable": false,
    "nbgrader": {
     "checksum": "3f4b0c72e50d9b9a56f726facc717b44",
     "grade": false,
     "grade_id": "f2_ans",
     "locked": false,
     "solution": true
    }
   },
   "outputs": [],
   "source": [
    "def add_one(d, to_add):\n",
    "    '''\n",
    "    Adds the second dictionary to the first dictionary.\n",
    "    \n",
    "    Parameters\n",
    "    __________\n",
    "    d: A dictionary.\n",
    "    to_add: A dictionary that will be added to d.\n",
    "    \n",
    "    Returns\n",
    "    _______\n",
    "    output: The updated dictionary d. \n",
    "    '''\n",
    "    # YOUR CODE HERE"
   ]
  },
  {
   "cell_type": "code",
   "execution_count": null,
   "metadata": {
    "collapsed": true,
    "deletable": false,
    "nbgrader": {
     "checksum": "a751667df125b022510623441022babe",
     "grade": true,
     "grade_id": "f2_test",
     "locked": true,
     "points": 5,
     "solution": false
    }
   },
   "outputs": [],
   "source": [
    "assert_equal(type(add_one({}, {})), dict)\n",
    "assert_equal(add_one({}, {0: 0}), {0: 0})\n",
    "assert_equal(add_one({1: 2, 3: 4}, {1: 3}), {1: 3, 3: 4})\n",
    "assert_equal(add_one({1: '1', 2: '2'}, {'info': '490'}), {'info': '490', 1: '1', 2: '2'})\n",
    "assert_equal(add_one({'M': 0, 'a': 1, 'R': 2}, {'i': 3, 'O': 4}), \n",
    "             {'M': 0, 'a': 1, 'R': 2, 'i': 3, 'O': 4})\n",
    "assert_equal(add_one({\"info\": 4.0, \"490\": 9.0, \"fa16\": 0.0}, {'M': 0, 'a': 1, 'R': 2}), \n",
    "             {'M': 0, 'a': 1, 'R': 2, \"info\": 4.0, \"490\": 9.0, \"fa16\": 0.0})"
   ]
  },
  {
   "cell_type": "markdown",
   "metadata": {
    "deletable": false,
    "nbgrader": {
     "checksum": "373d563950914aafed539f78678f7a37",
     "grade": false,
     "grade_id": "f3_title",
     "locked": true,
     "solution": false
    }
   },
   "source": [
    "## 3. Function: add_many():\n",
    "\n",
    "In the following code cell, construct a function named `add_many()` that takes a dictionary as the first input argument, and arbitrary number of dictionaries as the second input argument. This function adds the key-value pairs from arbitrary number of dictionaries to the first input dictionary. For example, suppose `a = {1: 2}`, `b = {3: 4}`, and `c = {5: 6}`, then `add_many(a, b, c)` returns `{1: 2, 3: 4, 5: 6}`. For duplicate keys, update the corresponding values in the first dictionary; again, let Python handles those automatically. \n",
    "\n",
    "*Hint*: you can take advantage of the previously defined `add_one()` function to avoid duplicate codes."
   ]
  },
  {
   "cell_type": "code",
   "execution_count": null,
   "metadata": {
    "collapsed": true,
    "deletable": false,
    "nbgrader": {
     "checksum": "05b1732880316f64a8f17b38b470beb3",
     "grade": false,
     "grade_id": "f3_ans",
     "locked": false,
     "solution": true
    }
   },
   "outputs": [],
   "source": [
    "def add_many(d, *dicts_to_add):\n",
    "    '''\n",
    "    Adds many dictionaries to the first dictionary.\n",
    "    \n",
    "    Parameters\n",
    "    __________\n",
    "    d: A dictionary.\n",
    "    *dicts_to_add: Arbitrary number of dictionaries (1 or more dictionaries) that will be added to d.\n",
    "    \n",
    "    Returns\n",
    "    _______\n",
    "    output: The updated dictionary d. \n",
    "    '''\n",
    "    # YOUR CODE HERE"
   ]
  },
  {
   "cell_type": "code",
   "execution_count": null,
   "metadata": {
    "collapsed": true,
    "deletable": false,
    "nbgrader": {
     "checksum": "baa78e2fca8ca08fda15fba29b197747",
     "grade": true,
     "grade_id": "f3_test",
     "locked": true,
     "points": 5,
     "solution": false
    }
   },
   "outputs": [],
   "source": [
    "assert_equal(type(add_many({}, {}, {})), dict)\n",
    "assert_equal(add_many({}, {0: 0}), {0: 0})\n",
    "assert_equal(add_many({1: 2, 3: 4}, {1: 3}, {3: 5}), {1: 3, 3: 5})\n",
    "assert_equal(add_many({1: '1', 2: '2'}, {3: '3'}, {4: '4', 5: '5'}), \n",
    "             {1: '1', 2: '2', 3: '3', 4: '4', 5: '5'})\n",
    "assert_equal(add_many({'M': 0}, {'a': 1}, {'R': 2}, {'i': 3}, {'O': 4}), \n",
    "             {'M': 0, 'a': 1, 'R': 2, 'i': 3, 'O': 4})\n",
    "assert_equal(add_many({\"info\": \"4.0\", \"490\": \"9.0\"}, {\"fa16\": \"0.0\"}, {'M': 0, 'a': 1, 'R': 2}), \n",
    "             {'M': 0, 'a': 1, 'R': 2, \"info\": \"4.0\", \"490\": \"9.0\", \"fa16\": \"0.0\"})"
   ]
  },
  {
   "cell_type": "markdown",
   "metadata": {
    "deletable": false,
    "nbgrader": {
     "checksum": "3387e4566e59b9d80fb54759ba5b9f55",
     "grade": false,
     "grade_id": "f4_title",
     "locked": true,
     "solution": false
    }
   },
   "source": [
    "## 4. Function remove():\n",
    "\n",
    "In the following code cell, construct a function named `remove()` that takes two dictionaries as the input arguments. When executed, this function removes all the key-value pairs in the second dictionary from the first dictionary *only if* those key-value pairs also exist in the first dictionary. The `remove` function returns the first dictionary as the output.\n",
    "\n",
    "For example, suppose `a = {1: 2, 3: 4, 5: 6}`. \n",
    "- If `b = {1: 2}`, then `remove(a, b)` returns `{3: 4, 5: 6}`.\n",
    "- If `b = {1: 2, 3: 4, 5: 6}`, then `remove(a, b)` returns `{}` (an empty dictionary).\n",
    "- If `b = {0: 0}`, then `remove(a, b)` returns `{1: 2, 3: 4, 5: 6}`.\n",
    "- If `b = {1: 0}` (key exists in dictionary `a` but the key-value pair does not), then `remove(a, b)` returns `{1: 2, 3: 4, 5: 6}`."
   ]
  },
  {
   "cell_type": "code",
   "execution_count": null,
   "metadata": {
    "collapsed": true,
    "deletable": false,
    "nbgrader": {
     "checksum": "7a726e6cb8c1d8e8c26041525f4fe445",
     "grade": false,
     "grade_id": "f4_ans",
     "locked": false,
     "solution": true
    }
   },
   "outputs": [],
   "source": [
    "def remove(d, to_remove):\n",
    "    '''\n",
    "    Removes the second dictionary from the first dictionary. \n",
    "    \n",
    "    Parameters\n",
    "    __________\n",
    "    d: A dicionary.\n",
    "    to_remove: A dictionary that will be removed from d. \n",
    "    \n",
    "    Returns\n",
    "    _______\n",
    "    output: The updated dictionary d. \n",
    "    '''\n",
    "    # YOUR CODE HERE"
   ]
  },
  {
   "cell_type": "code",
   "execution_count": null,
   "metadata": {
    "collapsed": true,
    "deletable": false,
    "nbgrader": {
     "checksum": "8d67915088c933656113e49e06b7276d",
     "grade": true,
     "grade_id": "f4_test",
     "locked": true,
     "points": 5,
     "solution": false
    }
   },
   "outputs": [],
   "source": [
    "assert_equal(type(remove({1: 2, 3: 4}, {1: 2})), dict)\n",
    "assert_equal(remove({1: '1', 2: '2', 3: '3', 4: '4', 5: '5'}, {1: '1'}), \n",
    "             {2: '2', 3: '3', 4: '4', 5: '5'})\n",
    "assert_equal(remove({1: '1', 2: '2', 3: '3', 4: '4', 5: '5'}, {2: '2'}), \n",
    "             {1: '1', 3: '3', 4: '4', 5: '5'})\n",
    "assert_equal(remove({1: '1', 2: '2', 3: '3', 4: '4', 5: '5'}, {3: '3', 4: '4'}), \n",
    "             {1: '1', 2: '2', 5: '5'})\n",
    "assert_equal(remove({1: '1', 2: '2', 3: '3', 4: '4', 5: '5'}, {1: '1', 2: '2', 3: '3', 4: '4', 5: '5'}), \n",
    "             {})\n",
    "assert_equal(remove({1: '1', 2: '2', 3: '3', 4: '4', 5: '5'}, {'a': 'b'}), \n",
    "             {1: '1', 2: '2', 3: '3', 4: '4', 5: '5'})\n",
    "assert_equal(remove({1: '1', 2: '2', 3: '3', 4: '4', 5: '5'}, {1: 'a'}), \n",
    "             {1: '1', 2: '2', 3: '3', 4: '4', 5: '5'})\n",
    "assert_equal(remove({1: '1', 2: '2', 3: '3', 4: '4', 5: '5'}, {1: 'a', 2: '2'}), \n",
    "             {1: '1', 3: '3', 4: '4', 5: '5'})"
   ]
  },
  {
   "cell_type": "markdown",
   "metadata": {
    "deletable": false,
    "nbgrader": {
     "checksum": "7934d5b780e6c2b94e8978ca6d724ae1",
     "grade": false,
     "grade_id": "f5_title",
     "locked": true,
     "solution": false
    }
   },
   "source": [
    "## 5. Eeveelution:\n",
    "\n",
    "Before you work on this part, make sure all of the previous functions have passed the assertion tests. \n",
    "\n",
    "Now that we have `dict_from_lists()`, `add_one()`, `add_many()`, and `remove()` functions, let's try those functions on some data: "
   ]
  },
  {
   "cell_type": "code",
   "execution_count": null,
   "metadata": {
    "collapsed": true,
    "deletable": false,
    "nbgrader": {
     "checksum": "924811016f18f080013bb83a2881dbfc",
     "grade": false,
     "grade_id": "f5_data",
     "locked": true,
     "solution": false
    }
   },
   "outputs": [],
   "source": [
    "# lists\n",
    "names = [\"Eevee\", \"Vaporeon\", \"Jolteon\", \"Flareon\", \"Pikachu\"]\n",
    "types = [\"Normal\", \"Water\", \"Electric\", \"Fire\", \"Electric\"]\n",
    "\n",
    "# dictionaries\n",
    "generationII = {\"Espeon\": \"Psychic\", \"Umbreon\": \"Dark\"}\n",
    "generationIV = {\"Leafeon\": \"Grass\", \"Glaceon\": \"Ice\"}\n",
    "generationVI = {\"Sylveon\": \"Fairy\"}"
   ]
  },
  {
   "cell_type": "markdown",
   "metadata": {
    "deletable": false,
    "nbgrader": {
     "checksum": "a1f20696b8ec6fced330586d9b79fa62",
     "grade": false,
     "grade_id": "f5_tasks",
     "locked": true,
     "solution": false
    }
   },
   "source": [
    "In the code cell below, complete the following tasks:\n",
    "- Construct a dictionary named `eeveelution` with the list `names` as keys and the list `types` as values.\n",
    "- Add the dictionaries `generationII`, `generationIV`, `generationVI` to the dictionary `eeveelution`.\n",
    "- Remove the key-value pair `(\"Pikachu\": \"Electric\")` from the dictionary `eeveelution`.\n",
    "\n",
    "Here is a sample output: \n",
    "```\n",
    "{'Eevee': 'Normal', 'Espeon': 'Psychic', 'Flareon': 'Fire', 'Glaceon': 'Ice', 'Jolteon': 'Electric', 'Leafeon': 'Grass', 'Sylveon': 'Fairy','Umbreon': 'Dark','Vaporeon': 'Water'}\n",
    "```"
   ]
  },
  {
   "cell_type": "code",
   "execution_count": null,
   "metadata": {
    "collapsed": true,
    "deletable": false,
    "nbgrader": {
     "checksum": "d74d188950e182852f1a8e9874e0d2e2",
     "grade": false,
     "grade_id": "f5_ans",
     "locked": false,
     "solution": true
    }
   },
   "outputs": [],
   "source": [
    "# YOUR CODE HERE"
   ]
  },
  {
   "cell_type": "code",
   "execution_count": null,
   "metadata": {
    "collapsed": true,
    "deletable": false,
    "nbgrader": {
     "checksum": "9d73172fe669ded7dbc8dad1534d17c1",
     "grade": true,
     "grade_id": "f5_test",
     "locked": true,
     "points": 5,
     "solution": false
    }
   },
   "outputs": [],
   "source": [
    "assert_equal(type(eeveelution), dict)\n",
    "assert_equal(len(eeveelution), 9)\n",
    "assert_equal(eeveelution[\"Eevee\"], \"Normal\")\n",
    "assert_equal(eeveelution, {'Eevee': 'Normal', 'Espeon': 'Psychic', 'Flareon': 'Fire', \n",
    "                           'Glaceon': 'Ice', 'Jolteon': 'Electric', 'Leafeon': 'Grass',\n",
    "                           'Sylveon': 'Fairy','Umbreon': 'Dark','Vaporeon': 'Water'})"
   ]
  }
 ],
 "metadata": {
  "kernelspec": {
   "display_name": "Python 3",
   "language": "python",
   "name": "python3"
  },
  "language_info": {
   "codemirror_mode": {
    "name": "ipython",
    "version": 3
   },
   "file_extension": ".py",
   "mimetype": "text/x-python",
   "name": "python",
   "nbconvert_exporter": "python",
   "pygments_lexer": "ipython3",
   "version": "3.5.2"
  }
 },
 "nbformat": 4,
 "nbformat_minor": 1
}
